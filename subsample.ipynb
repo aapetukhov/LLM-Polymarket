{
 "cells": [
  {
   "cell_type": "code",
   "execution_count": 1,
   "metadata": {},
   "outputs": [],
   "source": [
    "import json\n",
    "\n",
    "with open(\"/Users/andreypetukhov/Documents/Thesis/LLM-Polymarket/data/polymarket/all_events.json\", \"r\", encoding=\"utf-8\") as f:\n",
    "    events = json.load(f)"
   ]
  },
  {
   "cell_type": "code",
   "execution_count": 2,
   "metadata": {},
   "outputs": [
    {
     "name": "stdout",
     "output_type": "stream",
     "text": [
      "Saved 100 events to subsample.json\n"
     ]
    }
   ],
   "source": [
    "subsample = events[-100:]\n",
    "    \n",
    "with open(\"/Users/andreypetukhov/Documents/Thesis/LLM-Polymarket/data/polymarket/subsample.json\", \"w\", encoding=\"utf-8\") as f:\n",
    "    json.dump(subsample, f, ensure_ascii=False, indent=4)\n",
    "\n",
    "print(f\"Saved {len(subsample)} events to subsample.json\")"
   ]
  },
  {
   "cell_type": "code",
   "execution_count": null,
   "metadata": {},
   "outputs": [],
   "source": []
  }
 ],
 "metadata": {
  "kernelspec": {
   "display_name": ".venv",
   "language": "python",
   "name": "python3"
  },
  "language_info": {
   "codemirror_mode": {
    "name": "ipython",
    "version": 3
   },
   "file_extension": ".py",
   "mimetype": "text/x-python",
   "name": "python",
   "nbconvert_exporter": "python",
   "pygments_lexer": "ipython3",
   "version": "3.11.1"
  }
 },
 "nbformat": 4,
 "nbformat_minor": 2
}
