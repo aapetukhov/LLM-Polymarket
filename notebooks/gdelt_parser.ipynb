{
 "cells": [
  {
   "cell_type": "code",
   "execution_count": 1,
   "metadata": {},
   "outputs": [],
   "source": [
    "%load_ext autoreload\n",
    "%autoreload 2\n",
    "\n",
    "import requests\n",
    "import os\n",
    "import sys\n",
    "import json\n",
    "from datetime import datetime\n",
    "import time\n",
    "from pathlib import Path\n",
    "\n",
    "\n",
    "sys.path.append(os.path.abspath(os.path.join(os.getcwd(), \"../src\")))"
   ]
  },
  {
   "cell_type": "code",
   "execution_count": 2,
   "metadata": {},
   "outputs": [],
   "source": [
    "from parsers.gdelt_parser import GDELTRetriever"
   ]
  },
  {
   "cell_type": "code",
   "execution_count": 9,
   "metadata": {},
   "outputs": [
    {
     "name": "stdout",
     "output_type": "stream",
     "text": [
      "Results saved to ./gdelt_results/Putin_tiktok_20250122161515.json\n",
      "Retrieval complete.\n"
     ]
    }
   ],
   "source": [
    "api_url = \"https://api.gdeltproject.org/api/v2/doc/do\"\n",
    "parser = GDELTRetriever()\n",
    "\n",
    "query = \"Putin tiktok\"\n",
    "data = parser.retrieve(query, mode=\"ArtList\", format=\"JSON\", timespan=\"2d\", maxrecords=10, language=\"eng\")\n",
    "print(\"Retrieval complete.\")\n",
    "# params = parser.build_query(query)\n",
    "# response = requests.get(api_url, params=params)"
   ]
  },
  {
   "cell_type": "code",
   "execution_count": null,
   "metadata": {},
   "outputs": [],
   "source": []
  }
 ],
 "metadata": {
  "kernelspec": {
   "display_name": ".venv",
   "language": "python",
   "name": "python3"
  },
  "language_info": {
   "codemirror_mode": {
    "name": "ipython",
    "version": 3
   },
   "file_extension": ".py",
   "mimetype": "text/x-python",
   "name": "python",
   "nbconvert_exporter": "python",
   "pygments_lexer": "ipython3",
   "version": "3.11.1"
  },
  "orig_nbformat": 4
 },
 "nbformat": 4,
 "nbformat_minor": 2
}
